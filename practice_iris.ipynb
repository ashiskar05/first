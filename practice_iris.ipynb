{
  "nbformat": 4,
  "nbformat_minor": 0,
  "metadata": {
    "colab": {
      "provenance": [],
      "authorship_tag": "ABX9TyNDi39joUSE4Zl6EqC6BhMp",
      "include_colab_link": true
    },
    "kernelspec": {
      "name": "python3",
      "display_name": "Python 3"
    },
    "language_info": {
      "name": "python"
    }
  },
  "cells": [
    {
      "cell_type": "markdown",
      "metadata": {
        "id": "view-in-github",
        "colab_type": "text"
      },
      "source": [
        "<a href=\"https://colab.research.google.com/github/ashiskar05/first/blob/main/practice_iris.ipynb\" target=\"_parent\"><img src=\"https://colab.research.google.com/assets/colab-badge.svg\" alt=\"Open In Colab\"/></a>"
      ]
    },
    {
      "cell_type": "code",
      "execution_count": null,
      "metadata": {
        "id": "x4qkdOBf1buN"
      },
      "outputs": [],
      "source": [
        "from google.colab import drive"
      ]
    },
    {
      "cell_type": "code",
      "source": [
        "drive.mount('/content/drive')"
      ],
      "metadata": {
        "id": "WYAIqryO2Q6_"
      },
      "execution_count": null,
      "outputs": []
    },
    {
      "cell_type": "code",
      "source": [
        "import numpy as np\n",
        "import pandas as pd\n",
        "import matplotlib.pyplot as plt\n",
        "import seaborn as sns\n",
        "%matplotlib inline"
      ],
      "metadata": {
        "id": "8waJ734Y2veu"
      },
      "execution_count": null,
      "outputs": []
    },
    {
      "cell_type": "code",
      "source": [
        "df=pd.read_csv('/content/drive/My Drive/Dataset/iris.csv')"
      ],
      "metadata": {
        "id": "ywK0Kos83EZa"
      },
      "execution_count": null,
      "outputs": []
    },
    {
      "cell_type": "code",
      "source": [
        "df.head()"
      ],
      "metadata": {
        "id": "G08m5-6x3StK"
      },
      "execution_count": null,
      "outputs": []
    },
    {
      "cell_type": "code",
      "source": [
        "df[df[\"Species\"]==\"Iris-setosa\"][\"SepalWidthCm\"].mean()"
      ],
      "metadata": {
        "id": "-m6OPyny3VRO"
      },
      "execution_count": null,
      "outputs": []
    },
    {
      "cell_type": "code",
      "source": [
        "df[df[\"Species\"]==\"Iris-setosa\"][\"SepalWidthCm\"].mode()"
      ],
      "metadata": {
        "id": "f9a88zJ63pza"
      },
      "execution_count": null,
      "outputs": []
    },
    {
      "cell_type": "code",
      "source": [
        "df[\"Species\"].value_counts()"
      ],
      "metadata": {
        "id": "gxUTK8Hh3y47"
      },
      "execution_count": null,
      "outputs": []
    },
    {
      "cell_type": "code",
      "source": [
        "sns.FacetGrid(df,hue=\"Species\")"
      ],
      "metadata": {
        "id": "w4UEYHNkG2kd"
      },
      "execution_count": null,
      "outputs": []
    },
    {
      "cell_type": "code",
      "source": [
        "sns.displot(df[\"PetalLengthCm\"])"
      ],
      "metadata": {
        "id": "Zap_PWqpQR7m"
      },
      "execution_count": null,
      "outputs": []
    },
    {
      "cell_type": "code",
      "source": [
        "sns.kdeplot(df[\"PetalLengthCm\"])"
      ],
      "metadata": {
        "id": "2epwhOUEQm5-"
      },
      "execution_count": null,
      "outputs": []
    },
    {
      "cell_type": "code",
      "source": [
        "sns.FacetGrid(df,hue=\"Species\",height=6).map(sns.distplot,\"PetalLengthCm\").add_legend()"
      ],
      "metadata": {
        "id": "8RCX5UKIQ16C"
      },
      "execution_count": null,
      "outputs": []
    },
    {
      "cell_type": "code",
      "source": [
        "sns.scatterplot(\"PetalLengthCm\",\"SepalLengthCm\",hue=\"Species\",data=df)"
      ],
      "metadata": {
        "id": "pMNHzXboRPnO"
      },
      "execution_count": null,
      "outputs": []
    },
    {
      "cell_type": "code",
      "source": [
        "sns.pairplot(df.iloc[:,1:],hue=\"Species\")"
      ],
      "metadata": {
        "id": "mh5o0OTIhiI4"
      },
      "execution_count": null,
      "outputs": []
    },
    {
      "cell_type": "code",
      "source": [
        "df[\"Species\"].replace(to_replace=\"Iris-setosa\",value=0,inplace=True)"
      ],
      "metadata": {
        "id": "0lBrQSLqlBLQ"
      },
      "execution_count": null,
      "outputs": []
    },
    {
      "cell_type": "code",
      "source": [
        "df[\"Species\"].replace(to_replace=\"Iris-versicolor\",value=1,inplace=True)"
      ],
      "metadata": {
        "id": "Uh63spQDlB_I"
      },
      "execution_count": null,
      "outputs": []
    },
    {
      "cell_type": "code",
      "source": [
        "df[\"Species\"].replace(to_replace=\"Iris-virginica\",value=2,inplace=True)"
      ],
      "metadata": {
        "id": "wytNli4ElS5Y"
      },
      "execution_count": null,
      "outputs": []
    },
    {
      "cell_type": "code",
      "source": [
        "X=df.drop([\"Species\",\"Id\"],axis=1)\n",
        "y=df.pop(\"Species\")"
      ],
      "metadata": {
        "id": "uUQ1hmfWlTOf"
      },
      "execution_count": null,
      "outputs": []
    },
    {
      "cell_type": "code",
      "source": [
        "from sklearn.model_selection import train_test_split"
      ],
      "metadata": {
        "id": "Pk9rDuMqhzy6"
      },
      "execution_count": null,
      "outputs": []
    },
    {
      "cell_type": "code",
      "source": [
        "X_train,X_test,y_train,y_test=train_test_split(X,y,test_size=0.3,random_state=1)"
      ],
      "metadata": {
        "id": "tPeoAGNwk0Zz"
      },
      "execution_count": null,
      "outputs": []
    },
    {
      "cell_type": "code",
      "source": [
        "from sklearn.ensemble import RandomForestClassifier"
      ],
      "metadata": {
        "id": "ehD3HLTLls1C"
      },
      "execution_count": null,
      "outputs": []
    },
    {
      "cell_type": "code",
      "source": [
        "rc=RandomForestClassifier()"
      ],
      "metadata": {
        "id": "qWZHiHtynf9n"
      },
      "execution_count": null,
      "outputs": []
    },
    {
      "cell_type": "code",
      "source": [
        "rc.fit(X_train,y_train)"
      ],
      "metadata": {
        "id": "TsS0ebEQnl32"
      },
      "execution_count": null,
      "outputs": []
    },
    {
      "cell_type": "code",
      "source": [
        "rc.score(X_train,y_train)"
      ],
      "metadata": {
        "id": "9-UNpY1InqEU"
      },
      "execution_count": null,
      "outputs": []
    },
    {
      "cell_type": "code",
      "source": [
        "rc.score(X_test,y_test)"
      ],
      "metadata": {
        "id": "hX8JIo_OnvXb"
      },
      "execution_count": null,
      "outputs": []
    },
    {
      "cell_type": "code",
      "source": [
        "from sklearn import tree"
      ],
      "metadata": {
        "id": "UCe9wLXkp8qv"
      },
      "execution_count": null,
      "outputs": []
    },
    {
      "cell_type": "code",
      "source": [
        "dt=tree.DecisionTreeClassifier()"
      ],
      "metadata": {
        "id": "5CiDkTq5ynZu"
      },
      "execution_count": null,
      "outputs": []
    },
    {
      "cell_type": "code",
      "source": [
        "dt.fit(X_train,y_train)"
      ],
      "metadata": {
        "id": "HseSkQDLync2"
      },
      "execution_count": null,
      "outputs": []
    },
    {
      "cell_type": "code",
      "source": [
        "import graphviz"
      ],
      "metadata": {
        "id": "5xDGGNJGp6ot"
      },
      "execution_count": null,
      "outputs": []
    },
    {
      "cell_type": "code",
      "source": [
        "dot_data=tree.export_graphviz(dt)"
      ],
      "metadata": {
        "id": "1u_jwEiOxWXP"
      },
      "execution_count": null,
      "outputs": []
    },
    {
      "cell_type": "code",
      "source": [
        "graph=graphviz.Source(dot_data)"
      ],
      "metadata": {
        "id": "KsH-VTYhxnjb"
      },
      "execution_count": null,
      "outputs": []
    },
    {
      "cell_type": "code",
      "source": [
        "graph"
      ],
      "metadata": {
        "id": "QepLZaHGx1lI"
      },
      "execution_count": null,
      "outputs": []
    },
    {
      "cell_type": "code",
      "source": [
        "dt.score(X_train,y_train)"
      ],
      "metadata": {
        "id": "5cZggLcKx3X_"
      },
      "execution_count": null,
      "outputs": []
    },
    {
      "cell_type": "code",
      "source": [
        "df=pd.read_csv('/content/drive/My Drive/Upskill/dataset/iris.csv')"
      ],
      "metadata": {
        "id": "Ie1RI8hR3bL7"
      },
      "execution_count": null,
      "outputs": []
    },
    {
      "cell_type": "code",
      "source": [
        "df1=df.iloc[0:100,1:]"
      ],
      "metadata": {
        "id": "sZeWIIFszxDm"
      },
      "execution_count": null,
      "outputs": []
    },
    {
      "cell_type": "code",
      "source": [
        "df1.replace(to_replace=\"Iris-setosa\",value=0,inplace=True)"
      ],
      "metadata": {
        "id": "Q8uTAWQ09l6i"
      },
      "execution_count": null,
      "outputs": []
    },
    {
      "cell_type": "code",
      "source": [
        "df1.replace(to_replace=\"Iris-versicolor\",value=1,inplace=True)"
      ],
      "metadata": {
        "id": "AR-5b9-k9vK6"
      },
      "execution_count": null,
      "outputs": []
    },
    {
      "cell_type": "code",
      "source": [
        "df1.head()"
      ],
      "metadata": {
        "id": "KJrbP8yl3T1b"
      },
      "execution_count": null,
      "outputs": []
    },
    {
      "cell_type": "code",
      "source": [
        "X=df1.drop(\"Species\",axis=1)\n",
        "y=df1.pop(\"Species\")"
      ],
      "metadata": {
        "id": "MMLodsEx26Ik"
      },
      "execution_count": null,
      "outputs": []
    },
    {
      "cell_type": "code",
      "source": [
        "X_train,X_test,y_train,y_test=train_test_split(X,y,test_size=0.3,random_state=1)"
      ],
      "metadata": {
        "id": "LBmc7I313Miy"
      },
      "execution_count": null,
      "outputs": []
    },
    {
      "cell_type": "code",
      "source": [
        "y_train"
      ],
      "metadata": {
        "id": "rDiGvBtO68O0"
      },
      "execution_count": null,
      "outputs": []
    },
    {
      "cell_type": "code",
      "source": [
        "from sklearn.linear_model import LogisticRegression"
      ],
      "metadata": {
        "id": "qm3m8sY43sYr"
      },
      "execution_count": null,
      "outputs": []
    },
    {
      "cell_type": "code",
      "source": [
        "lr=LogisticRegression()"
      ],
      "metadata": {
        "id": "3WPOeJDW32t8"
      },
      "execution_count": null,
      "outputs": []
    },
    {
      "cell_type": "code",
      "source": [
        "lr.fit(X_train,y_train)"
      ],
      "metadata": {
        "id": "VFpUl2L-37IK"
      },
      "execution_count": null,
      "outputs": []
    },
    {
      "cell_type": "code",
      "source": [
        "lr.score(X_train,y_train)"
      ],
      "metadata": {
        "id": "ppFWdcfp3-wq"
      },
      "execution_count": null,
      "outputs": []
    },
    {
      "cell_type": "code",
      "source": [
        "sns.scatterplot(\"SepalLengthCm\",\"SepalWidthCm\",data=df1)"
      ],
      "metadata": {
        "id": "JozKnC8V4Cmi"
      },
      "execution_count": null,
      "outputs": []
    },
    {
      "cell_type": "code",
      "source": [
        "lr.coef_"
      ],
      "metadata": {
        "id": "5QxQaMV46srR"
      },
      "execution_count": null,
      "outputs": []
    },
    {
      "cell_type": "code",
      "source": [
        "lr.coef_.ndim"
      ],
      "metadata": {
        "id": "RYPpBAc8urim"
      },
      "execution_count": null,
      "outputs": []
    },
    {
      "cell_type": "code",
      "source": [
        "from sklearn import datasets\n",
        "dataset = datasets.load_iris()\n",
        "x, y = dataset['data'][:,:2], dataset['target']\n"
      ],
      "metadata": {
        "id": "i6dO_3MJ18ms"
      },
      "execution_count": null,
      "outputs": []
    },
    {
      "cell_type": "code",
      "source": [
        "y"
      ],
      "metadata": {
        "id": "aKIKzS7A19ju"
      },
      "execution_count": null,
      "outputs": []
    },
    {
      "cell_type": "code",
      "source": [
        "x, y = x[y < 2], y[y< 2]  "
      ],
      "metadata": {
        "id": "xLrteVT01-l4"
      },
      "execution_count": null,
      "outputs": []
    },
    {
      "cell_type": "code",
      "source": [
        "x[y < 2]"
      ],
      "metadata": {
        "id": "Rq_Qmhna2GGS"
      },
      "execution_count": null,
      "outputs": []
    },
    {
      "cell_type": "code",
      "source": [],
      "metadata": {
        "id": "vl4K1sqp2zh9"
      },
      "execution_count": null,
      "outputs": []
    }
  ]
}